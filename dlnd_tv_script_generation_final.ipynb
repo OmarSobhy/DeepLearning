{
  "nbformat": 4,
  "nbformat_minor": 0,
  "metadata": {
    "kernelspec": {
      "display_name": "Python 3",
      "language": "python",
      "name": "python3"
    },
    "language_info": {
      "codemirror_mode": {
        "name": "ipython",
        "version": 3
      },
      "file_extension": ".py",
      "mimetype": "text/x-python",
      "name": "python",
      "nbconvert_exporter": "python",
      "pygments_lexer": "ipython3",
      "version": "3.7.7"
    },
    "colab": {
      "name": "dlnd_tv_script_generation.ipynb",
      "provenance": [],
      "include_colab_link": true
    },
    "accelerator": "GPU"
  },
  "cells": [
    {
      "cell_type": "markdown",
      "metadata": {
        "id": "view-in-github",
        "colab_type": "text"
      },
      "source": [
        "<a href=\"https://colab.research.google.com/github/OmarSobhy/DeepLearning/blob/main/dlnd_tv_script_generation_final.ipynb\" target=\"_parent\"><img src=\"https://colab.research.google.com/assets/colab-badge.svg\" alt=\"Open In Colab\"/></a>"
      ]
    },
    {
      "cell_type": "markdown",
      "metadata": {
        "id": "vmihUNy8Iqun"
      },
      "source": [
        "# TV Script Generation\n",
        "\n",
        "In this project, you'll generate your own [Seinfeld](https://en.wikipedia.org/wiki/Seinfeld) TV scripts using RNNs.  You'll be using part of the [Seinfeld dataset](https://www.kaggle.com/thec03u5/seinfeld-chronicles#scripts.csv) of scripts from 9 seasons.  The Neural Network you'll build will generate a new ,\"fake\" TV script, based on patterns it recognizes in this training data.\n",
        "\n",
        "## Get the Data\n",
        "\n",
        "The data is already provided for you in `./data/Seinfeld_Scripts.txt` and you're encouraged to open that file and look at the text. \n",
        ">* As a first step, we'll load in this data and look at some samples. \n",
        "* Then, you'll be tasked with defining and training an RNN to generate a new script!"
      ]
    },
    {
      "cell_type": "code",
      "metadata": {
        "id": "JG-eeK1GKeZ7"
      },
      "source": [
        "# Import PyDrive and associated libraries.\n",
        "# This only needs to be done once per notebook.\n",
        "from pydrive.auth import GoogleAuth\n",
        "from pydrive.drive import GoogleDrive\n",
        "from google.colab import auth\n",
        "from oauth2client.client import GoogleCredentials\n"
      ],
      "execution_count": 1,
      "outputs": []
    },
    {
      "cell_type": "code",
      "metadata": {
        "id": "qtjSzeaHKjBY"
      },
      "source": [
        "# Authenticate and create the PyDrive client.\n",
        "# This only needs to be done once per notebook.\n",
        "auth.authenticate_user()\n",
        "gauth = GoogleAuth()\n",
        "gauth.credentials = GoogleCredentials.get_application_default()\n",
        "drive = GoogleDrive(gauth)\n"
      ],
      "execution_count": 2,
      "outputs": []
    },
    {
      "cell_type": "code",
      "metadata": {
        "id": "DNggaOIcLXI6"
      },
      "source": [
        "file_id = '1UJ5OHA2m9mR3T-2OPPfnskQ6GLgTf4NK'\n",
        "downloaded = drive.CreateFile({'id':file_id})\n",
        "downloaded.GetContentFile('Seinfeld_Scripts.txt')\n"
      ],
      "execution_count": 3,
      "outputs": []
    },
    {
      "cell_type": "code",
      "metadata": {
        "id": "C7iWTKn0Jlgu"
      },
      "source": [
        "file_id = '1ef6UyJIQH7pYZZAUp2W-v9V3ESMc_3vP'\n",
        "downloaded = drive.CreateFile({'id':file_id})\n",
        "downloaded.GetContentFile('helper.py')"
      ],
      "execution_count": 4,
      "outputs": []
    },
    {
      "cell_type": "code",
      "metadata": {
        "id": "IaUo0-0kOSne"
      },
      "source": [
        "import helper"
      ],
      "execution_count": 5,
      "outputs": []
    },
    {
      "cell_type": "code",
      "metadata": {
        "id": "hNvNzkRGOxee"
      },
      "source": [
        "file_id = '18GRp56J6LVzpmQU3XxdQYHA7cNYIMSqS'\n",
        "downloaded = drive.CreateFile({'id':file_id})\n",
        "downloaded.GetContentFile('problem_unittests.py')"
      ],
      "execution_count": 6,
      "outputs": []
    },
    {
      "cell_type": "code",
      "metadata": {
        "id": "JC-K4ffpOlKT"
      },
      "source": [
        "file_id = '16lkkEKhO05iiS0j9XbNhLuYRMjbKKFPG'\n",
        "downloaded = drive.CreateFile({'id':file_id})\n",
        "downloaded.GetContentFile('preprocess.p')"
      ],
      "execution_count": 7,
      "outputs": []
    },
    {
      "cell_type": "code",
      "metadata": {
        "id": "ALPRj-A1Iquv"
      },
      "source": [
        "\"\"\"\n",
        "DON'T MODIFY ANYTHING IN THIS CELL\n",
        "\"\"\"\n",
        "# load in data\n",
        "\n",
        "import helper\n",
        "data_dir = 'Seinfeld_Scripts.txt'\n",
        "text = helper.load_data(data_dir)"
      ],
      "execution_count": 9,
      "outputs": []
    },
    {
      "cell_type": "code",
      "metadata": {
        "id": "5YGC9MYrJkbt"
      },
      "source": [
        ""
      ],
      "execution_count": null,
      "outputs": []
    },
    {
      "cell_type": "markdown",
      "metadata": {
        "id": "zn8Jl7w_Iquw"
      },
      "source": [
        "## Explore the Data\n",
        "Play around with `view_line_range` to view different parts of the data. This will give you a sense of the data you'll be working with. You can see, for example, that it is all lowercase text, and each new line of dialogue is separated by a newline character `\\n`."
      ]
    },
    {
      "cell_type": "code",
      "metadata": {
        "id": "aoeeoBRLIquw",
        "colab": {
          "base_uri": "https://localhost:8080/"
        },
        "outputId": "0d212dee-c92e-41f7-e44f-a045918f096e"
      },
      "source": [
        "view_line_range = (0, 10)\n",
        "\n",
        "\"\"\"\n",
        "DON'T MODIFY ANYTHING IN THIS CELL THAT IS BELOW THIS LINE\n",
        "\"\"\"\n",
        "import numpy as np\n",
        "\n",
        "print('Dataset Stats')\n",
        "print('Roughly the number of unique words: {}'.format(len({word: None for word in text.split()})))\n",
        "\n",
        "lines = text.split('\\n')\n",
        "print('Number of lines: {}'.format(len(lines)))\n",
        "word_count_line = [len(line.split()) for line in lines]\n",
        "print('Average number of words in each line: {}'.format(np.average(word_count_line)))\n",
        "\n",
        "print()\n",
        "print('The lines {} to {}:'.format(*view_line_range))\n",
        "print('\\n'.join(text.split('\\n')[view_line_range[0]:view_line_range[1]]))"
      ],
      "execution_count": 10,
      "outputs": [
        {
          "output_type": "stream",
          "text": [
            "Dataset Stats\n",
            "Roughly the number of unique words: 46367\n",
            "Number of lines: 109233\n",
            "Average number of words in each line: 5.544240293684143\n",
            "\n",
            "The lines 0 to 10:\n",
            "jerry: do you know what this is all about? do you know, why were here? to be out, this is out...and out is one of the single most enjoyable experiences of life. people...did you ever hear people talking about we should go out? this is what theyre talking about...this whole thing, were all out now, no one is home. not one person here is home, were all out! there are people trying to find us, they dont know where we are. (on an imaginary phone) did you ring?, i cant find him. where did he go? he didnt tell me where he was going. he must have gone out. you wanna go out you get ready, you pick out the clothes, right? you take the shower, you get all ready, get the cash, get your friends, the car, the spot, the reservation...then youre standing around, what do you do? you go we gotta be getting back. once youre out, you wanna get back! you wanna go to sleep, you wanna get up, you wanna go out again tomorrow, right? where ever you are in life, its my feeling, youve gotta go. \n",
            "\n",
            "jerry: (pointing at georges shirt) see, to me, that button is in the worst possible spot. the second button literally makes or breaks the shirt, look at it. its too high! its in no-mans-land. you look like you live with your mother. \n",
            "\n",
            "george: are you through? \n",
            "\n",
            "jerry: you do of course try on, when you buy? \n",
            "\n",
            "george: yes, it was purple, i liked it, i dont actually recall considering the buttons. \n",
            "\n"
          ],
          "name": "stdout"
        }
      ]
    },
    {
      "cell_type": "markdown",
      "metadata": {
        "id": "8I-bNLMWIqux"
      },
      "source": [
        "---\n",
        "## Implement Pre-processing Functions\n",
        "The first thing to do to any dataset is pre-processing.  Implement the following pre-processing functions below:\n",
        "- Lookup Table\n",
        "- Tokenize Punctuation\n",
        "\n",
        "### Lookup Table\n",
        "To create a word embedding, you first need to transform the words to ids.  In this function, create two dictionaries:\n",
        "- Dictionary to go from the words to an id, we'll call `vocab_to_int`\n",
        "- Dictionary to go from the id to word, we'll call `int_to_vocab`\n",
        "\n",
        "Return these dictionaries in the following **tuple** `(vocab_to_int, int_to_vocab)`"
      ]
    },
    {
      "cell_type": "code",
      "metadata": {
        "id": "SG5IVUifIqux",
        "colab": {
          "base_uri": "https://localhost:8080/"
        },
        "outputId": "d580a81a-ce11-4af9-e508-2a6c4a6ff23a"
      },
      "source": [
        "import problem_unittests as tests\n",
        "from string import punctuation\n",
        "\n",
        "def create_lookup_tables(text):\n",
        "    \"\"\"\n",
        "    Create lookup tables for vocabulary\n",
        "    :param text: The text of tv scripts split into words\n",
        "    :return: A tuple of dicts (vocab_to_int, int_to_vocab)\n",
        "    \"\"\"\n",
        "    # TODO: Implement Function\n",
        "    #clean_text = [w for w in text if w not in punctuation]\n",
        "    vocab = tuple(set(text))\n",
        "    int_to_vocab = dict(enumerate(vocab))\n",
        "    vocab_to_int = {word: ii for ii, word in int_to_vocab.items()}\n",
        "    # return tuple\n",
        "    return (vocab_to_int, int_to_vocab)\n",
        "\n",
        "\n",
        "\"\"\"\n",
        "DON'T MODIFY ANYTHING IN THIS CELL THAT IS BELOW THIS LINE\n",
        "\"\"\"\n",
        "tests.test_create_lookup_tables(create_lookup_tables)"
      ],
      "execution_count": 11,
      "outputs": [
        {
          "output_type": "stream",
          "text": [
            "Tests Passed\n"
          ],
          "name": "stdout"
        }
      ]
    },
    {
      "cell_type": "markdown",
      "metadata": {
        "id": "EqmLROP2Iquy"
      },
      "source": [
        "### Tokenize Punctuation\n",
        "We'll be splitting the script into a word array using spaces as delimiters.  However, punctuations like periods and exclamation marks can create multiple ids for the same word. For example, \"bye\" and \"bye!\" would generate two different word ids.\n",
        "\n",
        "Implement the function `token_lookup` to return a dict that will be used to tokenize symbols like \"!\" into \"||Exclamation_Mark||\".  Create a dictionary for the following symbols where the symbol is the key and value is the token:\n",
        "- Period ( **.** )\n",
        "- Comma ( **,** )\n",
        "- Quotation Mark ( **\"** )\n",
        "- Semicolon ( **;** )\n",
        "- Exclamation mark ( **!** )\n",
        "- Question mark ( **?** )\n",
        "- Left Parentheses ( **(** )\n",
        "- Right Parentheses ( **)** )\n",
        "- Dash ( **-** )\n",
        "- Return ( **\\n** )\n",
        "\n",
        "This dictionary will be used to tokenize the symbols and add the delimiter (space) around it.  This separates each symbols as its own word, making it easier for the neural network to predict the next word. Make sure you don't use a value that could be confused as a word; for example, instead of using the value \"dash\", try using something like \"||dash||\"."
      ]
    },
    {
      "cell_type": "code",
      "metadata": {
        "id": "vHHn66ENIquy",
        "colab": {
          "base_uri": "https://localhost:8080/"
        },
        "outputId": "2a9854d0-a808-4f39-d612-9f7564182c5d"
      },
      "source": [
        "#from string import punctuation\n",
        "def token_lookup():\n",
        "    \"\"\"\n",
        "    Generate a dict to turn punctuation into a token.\n",
        "    :return: Tokenized dictionary where the key is the punctuation and the value is the token\n",
        "    \"\"\"\n",
        "    # TODO: Implement Function\n",
        "    tokenized_punct = {'.':\"||Period||\",\n",
        "                       ',':\"||Comma||\",\n",
        "                       '\"':\"||Quotation_Mark||\",\n",
        "                       ';':\"||Semicolon||\",\n",
        "                       '!':\"||Exclamation_Mark||\",\n",
        "                       '?':\"||Question_Mark||\",\n",
        "                       '(':\"||Left_Parentheses||\",\n",
        "                       ')':\"||Right_Parentheses||\",\n",
        "                       '-':\"||Dash||\",\n",
        "                       '\\n':\"||Return||\"}\n",
        "    #tokenized_punct = {p:ii for ii, p in int_to_punc.items()}\n",
        "                      \n",
        "    return tokenized_punct\n",
        "\n",
        "\"\"\"\n",
        "DON'T MODIFY ANYTHING IN THIS CELL THAT IS BELOW THIS LINE\n",
        "\"\"\"\n",
        "tests.test_tokenize(token_lookup)"
      ],
      "execution_count": 12,
      "outputs": [
        {
          "output_type": "stream",
          "text": [
            "Tests Passed\n"
          ],
          "name": "stdout"
        }
      ]
    },
    {
      "cell_type": "markdown",
      "metadata": {
        "id": "5nonjf2YIqu0"
      },
      "source": [
        "## Pre-process all the data and save it\n",
        "\n",
        "Running the code cell below will pre-process all the data and save it to file. You're encouraged to look at the code for `preprocess_and_save_data` in the `helpers.py` file to see what it's doing in detail, but you do not need to change this code."
      ]
    },
    {
      "cell_type": "code",
      "metadata": {
        "id": "Lk1H5UFzIqu0"
      },
      "source": [
        "\"\"\"\n",
        "DON'T MODIFY ANYTHING IN THIS CELL\n",
        "\"\"\"\n",
        "# pre-process training data\n",
        "helper.preprocess_and_save_data(data_dir, token_lookup, create_lookup_tables)"
      ],
      "execution_count": 13,
      "outputs": []
    },
    {
      "cell_type": "markdown",
      "metadata": {
        "id": "P4Lj25ARIqu0"
      },
      "source": [
        "# Check Point\n",
        "This is your first checkpoint. If you ever decide to come back to this notebook or have to restart the notebook, you can start from here. The preprocessed data has been saved to disk."
      ]
    },
    {
      "cell_type": "code",
      "metadata": {
        "id": "x66gu36YIqu1"
      },
      "source": [
        "\"\"\"\n",
        "DON'T MODIFY ANYTHING IN THIS CELL\n",
        "\"\"\"\n",
        "import helper\n",
        "import problem_unittests as tests\n",
        "import pickle\n",
        "\n",
        "int_text, vocab_to_int, int_to_vocab, token_dict =  pickle.load(open('preprocess.p', mode='rb'))"
      ],
      "execution_count": 15,
      "outputs": []
    },
    {
      "cell_type": "markdown",
      "metadata": {
        "id": "2RIFD7QNIqu1"
      },
      "source": [
        "## Build the Neural Network\n",
        "In this section, you'll build the components necessary to build an RNN by implementing the RNN Module and forward and backpropagation functions.\n",
        "\n",
        "### Check Access to GPU"
      ]
    },
    {
      "cell_type": "code",
      "metadata": {
        "id": "PzNT5jvfIqu1"
      },
      "source": [
        "\"\"\"\n",
        "DON'T MODIFY ANYTHING IN THIS CELL\n",
        "\"\"\"\n",
        "import torch\n",
        "\n",
        "# Check for a GPU\n",
        "train_on_gpu = torch.cuda.is_available()\n",
        "if not train_on_gpu:\n",
        "    print('No GPU found. Please use a GPU to train your neural network.')"
      ],
      "execution_count": 16,
      "outputs": []
    },
    {
      "cell_type": "markdown",
      "metadata": {
        "id": "w2HI6n70Iqu1"
      },
      "source": [
        "## Input\n",
        "Let's start with the preprocessed input data. We'll use [TensorDataset](http://pytorch.org/docs/master/data.html#torch.utils.data.TensorDataset) to provide a known format to our dataset; in combination with [DataLoader](http://pytorch.org/docs/master/data.html#torch.utils.data.DataLoader), it will handle batching, shuffling, and other dataset iteration functions.\n",
        "\n",
        "You can create data with TensorDataset by passing in feature and target tensors. Then create a DataLoader as usual.\n",
        "```\n",
        "data = TensorDataset(feature_tensors, target_tensors)\n",
        "data_loader = torch.utils.data.DataLoader(data, \n",
        "                                          batch_size=batch_size)\n",
        "```\n",
        "\n",
        "### Batching\n",
        "Implement the `batch_data` function to batch `words` data into chunks of size `batch_size` using the `TensorDataset` and `DataLoader` classes.\n",
        "\n",
        ">You can batch words using the DataLoader, but it will be up to you to create `feature_tensors` and `target_tensors` of the correct size and content for a given `sequence_length`.\n",
        "\n",
        "For example, say we have these as input:\n",
        "```\n",
        "words = [1, 2, 3, 4, 5, 6, 7]\n",
        "sequence_length = 4\n",
        "```\n",
        "\n",
        "Your first `feature_tensor` should contain the values:\n",
        "```\n",
        "[1, 2, 3, 4]\n",
        "```\n",
        "And the corresponding `target_tensor` should just be the next \"word\"/tokenized word value:\n",
        "```\n",
        "5\n",
        "```\n",
        "This should continue with the second `feature_tensor`, `target_tensor` being:\n",
        "```\n",
        "[2, 3, 4, 5]  # features\n",
        "6             # target\n",
        "```"
      ]
    },
    {
      "cell_type": "code",
      "metadata": {
        "id": "QF45gGWoIqu2"
      },
      "source": [
        "from torch.utils.data import TensorDataset, DataLoader\n",
        "\n",
        "\n",
        "def batch_data(words, sequence_length, batch_size):\n",
        "    \"\"\"\n",
        "    Batch the neural network data using DataLoader\n",
        "    :param words: The word ids of the TV scripts\n",
        "    :param sequence_length: The sequence length of each batch\n",
        "    :param batch_size: The size of each batch; the number of sequences in a batch\n",
        "    :return: DataLoader with batched data\n",
        "    \"\"\"\n",
        "    # TODO: Implement function\n",
        "    n_batches = len(words) // batch_size\n",
        "    words = words[:n_batches * batch_size]\n",
        "    \n",
        "    feature_tensor = []\n",
        "    target_tensor = []\n",
        "    # return a dataloader\n",
        "    for i in range(0, (len(words)-sequence_length)):\n",
        "        feature_tensor.append(words[i:sequence_length+i])\n",
        "        target_tensor.append(words[i+sequence_length])\n",
        "    \n",
        "    data = TensorDataset(torch.from_numpy(np.asarray(feature_tensor,np.int64)), torch.from_numpy(np.asarray(target_tensor,np.int64)))\n",
        "    data_loader = torch.utils.data.DataLoader(data, batch_size=batch_size, shuffle = True)   \n",
        "    \n",
        "    return data_loader\n",
        "\n",
        "# there is no test for this function, but you are encouraged to create\n",
        "# print statements and tests of your own\n"
      ],
      "execution_count": 17,
      "outputs": []
    },
    {
      "cell_type": "markdown",
      "metadata": {
        "id": "8U_PQ3TgIqu2"
      },
      "source": [
        "### Test your dataloader \n",
        "\n",
        "You'll have to modify this code to test a batching function, but it should look fairly similar.\n",
        "\n",
        "Below, we're generating some test text data and defining a dataloader using the function you defined, above. Then, we are getting some sample batch of inputs `sample_x` and targets `sample_y` from our dataloader.\n",
        "\n",
        "Your code should return something like the following (likely in a different order, if you shuffled your data):\n",
        "\n",
        "```\n",
        "torch.Size([10, 5])\n",
        "tensor([[ 28,  29,  30,  31,  32],\n",
        "        [ 21,  22,  23,  24,  25],\n",
        "        [ 17,  18,  19,  20,  21],\n",
        "        [ 34,  35,  36,  37,  38],\n",
        "        [ 11,  12,  13,  14,  15],\n",
        "        [ 23,  24,  25,  26,  27],\n",
        "        [  6,   7,   8,   9,  10],\n",
        "        [ 38,  39,  40,  41,  42],\n",
        "        [ 25,  26,  27,  28,  29],\n",
        "        [  7,   8,   9,  10,  11]])\n",
        "\n",
        "torch.Size([10])\n",
        "tensor([ 33,  26,  22,  39,  16,  28,  11,  43,  30,  12])\n",
        "```\n",
        "\n",
        "### Sizes\n",
        "Your sample_x should be of size `(batch_size, sequence_length)` or (10, 5) in this case and sample_y should just have one dimension: batch_size (10). \n",
        "\n",
        "### Values\n",
        "\n",
        "You should also notice that the targets, sample_y, are the *next* value in the ordered test_text data. So, for an input sequence `[ 28,  29,  30,  31,  32]` that ends with the value `32`, the corresponding output should be `33`."
      ]
    },
    {
      "cell_type": "code",
      "metadata": {
        "id": "llG5jQzyIqu2",
        "colab": {
          "base_uri": "https://localhost:8080/"
        },
        "outputId": "07761816-f098-4061-a32c-5a943a516e60"
      },
      "source": [
        "# test dataloader\n",
        "\n",
        "test_text = range(50)\n",
        "t_loader = batch_data(test_text, sequence_length=5, batch_size=10)\n",
        "\n",
        "data_iter = iter(t_loader)\n",
        "sample_x, sample_y = data_iter.next()\n",
        "\n",
        "print(sample_x.shape)\n",
        "print(sample_x)\n",
        "print()\n",
        "print(sample_y.shape)\n",
        "print(sample_y)"
      ],
      "execution_count": 18,
      "outputs": [
        {
          "output_type": "stream",
          "text": [
            "torch.Size([10, 5])\n",
            "tensor([[35, 36, 37, 38, 39],\n",
            "        [20, 21, 22, 23, 24],\n",
            "        [15, 16, 17, 18, 19],\n",
            "        [39, 40, 41, 42, 43],\n",
            "        [28, 29, 30, 31, 32],\n",
            "        [43, 44, 45, 46, 47],\n",
            "        [19, 20, 21, 22, 23],\n",
            "        [27, 28, 29, 30, 31],\n",
            "        [33, 34, 35, 36, 37],\n",
            "        [13, 14, 15, 16, 17]])\n",
            "\n",
            "torch.Size([10])\n",
            "tensor([40, 25, 20, 44, 33, 48, 24, 32, 38, 18])\n"
          ],
          "name": "stdout"
        }
      ]
    },
    {
      "cell_type": "markdown",
      "metadata": {
        "id": "pA5ZT5Q7Iqu5"
      },
      "source": [
        "---\n",
        "## Build the Neural Network\n",
        "Implement an RNN using PyTorch's [Module class](http://pytorch.org/docs/master/nn.html#torch.nn.Module). You may choose to use a GRU or an LSTM. To complete the RNN, you'll have to implement the following functions for the class:\n",
        " - `__init__` - The initialize function. \n",
        " - `init_hidden` - The initialization function for an LSTM/GRU hidden state\n",
        " - `forward` - Forward propagation function.\n",
        " \n",
        "The initialize function should create the layers of the neural network and save them to the class. The forward propagation function will use these layers to run forward propagation and generate an output and a hidden state.\n",
        "\n",
        "**The output of this model should be the *last* batch of word scores** after a complete sequence has been processed. That is, for each input sequence of words, we only want to output the word scores for a single, most likely, next word.\n",
        "\n",
        "### Hints\n",
        "\n",
        "1. Make sure to stack the outputs of the lstm to pass to your fully-connected layer, you can do this with `lstm_output = lstm_output.contiguous().view(-1, self.hidden_dim)`\n",
        "2. You can get the last batch of word scores by shaping the output of the final, fully-connected layer like so:\n",
        "\n",
        "```\n",
        "# reshape into (batch_size, seq_length, output_size)\n",
        "output = output.view(batch_size, -1, self.output_size)\n",
        "# get last batch\n",
        "out = output[:, -1]\n",
        "```"
      ]
    },
    {
      "cell_type": "code",
      "metadata": {
        "id": "timWBaCSIqu6",
        "colab": {
          "base_uri": "https://localhost:8080/"
        },
        "outputId": "274dbffb-20f7-45d9-ab79-1370f4d30cc2"
      },
      "source": [
        "import torch.nn as nn\n",
        "\n",
        "class RNN(nn.Module):\n",
        "    \n",
        "    def __init__(self, vocab_size, output_size, embedding_dim, hidden_dim, n_layers, dropout=0.5):\n",
        "        \"\"\"\n",
        "        Initialize the PyTorch RNN Module\n",
        "        :param vocab_size: The number of input dimensions of the neural network (the size of the vocabulary)\n",
        "        :param output_size: The number of output dimensions of the neural network\n",
        "        :param embedding_dim: The size of embeddings, should you choose to use them        \n",
        "        :param hidden_dim: The size of the hidden layer outputs\n",
        "        :param dropout: dropout to add in between LSTM/GRU layers\n",
        "        \"\"\"\n",
        "        super(RNN, self).__init__()\n",
        "        # TODO: Implement function\n",
        "       \n",
        "        # set class variables\n",
        "        self.layers = n_layers\n",
        "        self.output_size = output_size \n",
        "        self.hidden_dim = hidden_dim\n",
        "        \n",
        "        # define model layers\n",
        "        self.embed = nn.Embedding(vocab_size, embedding_dim)\n",
        "        self.lstm = nn.LSTM(embedding_dim, self.hidden_dim, num_layers = self.layers,  dropout = dropout, batch_first = True)\n",
        "        self.fc = nn.Linear(self.hidden_dim, self.output_size)\n",
        "        \n",
        "    def forward(self, nn_input, hidden):\n",
        "        \"\"\"\n",
        "        Forward propagation of the neural network\n",
        "        :param nn_input: The input to the neural network\n",
        "        :param hidden: The hidden state        \n",
        "        :return: Two Tensors, the output of the neural network and the latest hidden state\n",
        "        \"\"\"\n",
        "        # TODO: Implement function   \n",
        "        batch_size = nn_input.size(0)\n",
        "        \n",
        "        embedding = self.embed(nn_input)\n",
        "        \n",
        "        lstm, hidden = self.lstm(embedding, hidden)\n",
        "        \n",
        "        lstm_output = lstm.contiguous().view(-1, self.hidden_dim)\n",
        "        \n",
        "        output = self.fc(lstm_output)\n",
        "        \n",
        "        #output = self.sigmoid(output)\n",
        "        \n",
        "        output = output.view(batch_size, -1, self.output_size)\n",
        "        \n",
        "        output = output[:, -1]\n",
        "        # return one batch of output word scores and the hidden state\n",
        "        return output, hidden\n",
        "    \n",
        "    \n",
        "    def init_hidden(self, batch_size):\n",
        "        '''\n",
        "        Initialize the hidden state of an LSTM/GRU\n",
        "        :param batch_size: The batch_size of the hidden state\n",
        "        :return: hidden state of dims (n_layers, batch_size, hidden_dim)\n",
        "        '''\n",
        "        # Implement function\n",
        "        \n",
        "        # initialize hidden state with zero weights, and move to GPU if available\n",
        "        weight = next(self.parameters()).data\n",
        "        \n",
        "        if (train_on_gpu):\n",
        "            hidden = (weight.new(self.layers, batch_size,  self.hidden_dim).zero_().cuda(),\n",
        "                  weight.new(self.layers, batch_size,  self.hidden_dim).zero_().cuda())\n",
        "        else:\n",
        "            hidden = (weight.new(self.layers, batch_size,  self.hidden_dim).zero_(),\n",
        "                      weight.new(self.layers, batch_size, self.hidden_dim).zero_())\n",
        "        \n",
        "        return hidden\n",
        "\n",
        "\"\"\"\n",
        "DON'T MODIFY ANYTHING IN THIS CELL THAT IS BELOW THIS LINE\n",
        "\"\"\"\n",
        "tests.test_rnn(RNN, train_on_gpu)"
      ],
      "execution_count": 19,
      "outputs": [
        {
          "output_type": "stream",
          "text": [
            "Tests Passed\n"
          ],
          "name": "stdout"
        }
      ]
    },
    {
      "cell_type": "markdown",
      "metadata": {
        "id": "0HxbIf3zIqu7"
      },
      "source": [
        "### Define forward and backpropagation\n",
        "\n",
        "Use the RNN class you implemented to apply forward and back propagation. This function will be called, iteratively, in the training loop as follows:\n",
        "```\n",
        "loss = forward_back_prop(decoder, decoder_optimizer, criterion, inp, target)\n",
        "```\n",
        "\n",
        "And it should return the average loss over a batch and the hidden state returned by a call to `RNN(inp, hidden)`. Recall that you can get this loss by computing it, as usual, and calling `loss.item()`.\n",
        "\n",
        "**If a GPU is available, you should move your data to that GPU device, here.**"
      ]
    },
    {
      "cell_type": "code",
      "metadata": {
        "id": "tnk-vPR6Iqu7",
        "colab": {
          "base_uri": "https://localhost:8080/"
        },
        "outputId": "14fdd95d-85ea-4fa0-db59-92544d63b8d4"
      },
      "source": [
        "def forward_back_prop(rnn, optimizer, criterion, inp, target, hidden):\n",
        "    \"\"\"\n",
        "    Forward and backward propagation on the neural network\n",
        "    :param decoder: The PyTorch Module that holds the neural network\n",
        "    :param decoder_optimizer: The PyTorch optimizer for the neural network\n",
        "    :param criterion: The PyTorch loss function\n",
        "    :param inp: A batch of input to the neural network\n",
        "    :param target: The target output for the batch of input\n",
        "    :return: The loss and the latest hidden state Tensor\n",
        "    \"\"\"\n",
        "    \n",
        "    # TODO: Implement Function\n",
        "    clip = 5\n",
        "    # move data to GPU, if available\n",
        "    if(train_on_gpu):\n",
        "        inp, target = inp.cuda(), target.cuda()\n",
        "        \n",
        "    # perform backpropagation and optimization\n",
        "    rnn.zero_grad()\n",
        "    \n",
        "    output, hidden = rnn(inp, hidden)\n",
        "    \n",
        "    hidden = (hidden[0].detach(), hidden[1].detach())\n",
        "    loss = criterion(output.squeeze(), target.squeeze())\n",
        "    loss.backward()\n",
        "\n",
        "    nn.utils.clip_grad_norm_(rnn.parameters(), clip)\n",
        "    optimizer.step()\n",
        "    # return the loss over a batch and the hidden state produced by our model\n",
        "    return loss.item(), hidden\n",
        "\n",
        "# Note that these tests aren't completely extensive.\n",
        "# they are here to act as general checks on the expected outputs of your functions\n",
        "\"\"\"\n",
        "DON'T MODIFY ANYTHING IN THIS CELL THAT IS BELOW THIS LINE\n",
        "\"\"\"\n",
        "tests.test_forward_back_prop(RNN, forward_back_prop, train_on_gpu)"
      ],
      "execution_count": 20,
      "outputs": [
        {
          "output_type": "stream",
          "text": [
            "Tests Passed\n"
          ],
          "name": "stdout"
        }
      ]
    },
    {
      "cell_type": "markdown",
      "metadata": {
        "id": "x_vn77PlIqu7"
      },
      "source": [
        "## Neural Network Training\n",
        "\n",
        "With the structure of the network complete and data ready to be fed in the neural network, it's time to train it.\n",
        "\n",
        "### Train Loop\n",
        "\n",
        "The training loop is implemented for you in the `train_decoder` function. This function will train the network over all the batches for the number of epochs given. The model progress will be shown every number of batches. This number is set with the `show_every_n_batches` parameter. You'll set this parameter along with other parameters in the next section."
      ]
    },
    {
      "cell_type": "code",
      "metadata": {
        "id": "9YMpCPpDIqu7"
      },
      "source": [
        "\"\"\"\n",
        "DON'T MODIFY ANYTHING IN THIS CELL\n",
        "\"\"\"\n",
        "\n",
        "def train_rnn(rnn, batch_size, optimizer, criterion, n_epochs, show_every_n_batches=100):\n",
        "    batch_losses = []\n",
        "    \n",
        "    rnn.train()\n",
        "\n",
        "    print(\"Training for %d epoch(s)...\" % n_epochs)\n",
        "    for epoch_i in range(1, n_epochs + 1):\n",
        "        \n",
        "        # initialize hidden state\n",
        "        hidden = rnn.init_hidden(batch_size)\n",
        "        \n",
        "        for batch_i, (inputs, labels) in enumerate(train_loader, 1):\n",
        "            \n",
        "            # make sure you iterate over completely full batches, only\n",
        "            n_batches = len(train_loader.dataset)//batch_size\n",
        "            if(batch_i > n_batches):\n",
        "                break\n",
        "            \n",
        "            # forward, back prop\n",
        "            loss, hidden = forward_back_prop(rnn, optimizer, criterion, inputs, labels, hidden)          \n",
        "            # record loss\n",
        "            batch_losses.append(loss)\n",
        "\n",
        "            # printing loss stats\n",
        "            if batch_i % show_every_n_batches == 0:\n",
        "                print('Epoch: {:>4}/{:<4}  Loss: {}\\n'.format(\n",
        "                    epoch_i, n_epochs, np.average(batch_losses)))\n",
        "                batch_losses = []\n",
        "\n",
        "    # returns a trained rnn\n",
        "    return rnn"
      ],
      "execution_count": 21,
      "outputs": []
    },
    {
      "cell_type": "markdown",
      "metadata": {
        "id": "cFclMchoIqu8"
      },
      "source": [
        "### Hyperparameters\n",
        "\n",
        "Set and train the neural network with the following parameters:\n",
        "- Set `sequence_length` to the length of a sequence.\n",
        "- Set `batch_size` to the batch size.\n",
        "- Set `num_epochs` to the number of epochs to train for.\n",
        "- Set `learning_rate` to the learning rate for an Adam optimizer.\n",
        "- Set `vocab_size` to the number of unique tokens in our vocabulary.\n",
        "- Set `output_size` to the desired size of the output.\n",
        "- Set `embedding_dim` to the embedding dimension; smaller than the vocab_size.\n",
        "- Set `hidden_dim` to the hidden dimension of your RNN.\n",
        "- Set `n_layers` to the number of layers/cells in your RNN.\n",
        "- Set `show_every_n_batches` to the number of batches at which the neural network should print progress.\n",
        "\n",
        "If the network isn't getting the desired results, tweak these parameters and/or the layers in the `RNN` class."
      ]
    },
    {
      "cell_type": "code",
      "metadata": {
        "id": "N5GVffunIqu8"
      },
      "source": [
        "# Data params\n",
        "# Sequence Length\n",
        "sequence_length = 100  # of words in a sequence\n",
        "# Batch Size\n",
        "batch_size = 100\n",
        "\n",
        "# data loader - do not change\n",
        "train_loader = batch_data(int_text, sequence_length, batch_size)"
      ],
      "execution_count": 22,
      "outputs": []
    },
    {
      "cell_type": "code",
      "metadata": {
        "id": "yfuS-U5fIqu8"
      },
      "source": [
        "# Training parameters\n",
        "# Number of Epochs\n",
        "num_epochs = 9\n",
        "# Learning Rate\n",
        "learning_rate = 0.001\n",
        "\n",
        "# Model parameters\n",
        "# Vocab size\n",
        "vocab_size = len(vocab_to_int)\n",
        "# Output size\n",
        "output_size = vocab_size\n",
        "# Embedding Dimension\n",
        "embedding_dim = 50\n",
        "# Hidden Dimension\n",
        "hidden_dim = 256\n",
        "# Number of RNN Layers\n",
        "n_layers = 3\n",
        "\n",
        "# Show stats for every n number of batches\n",
        "show_every_n_batches = 500"
      ],
      "execution_count": 23,
      "outputs": []
    },
    {
      "cell_type": "markdown",
      "metadata": {
        "id": "zLtBBQ09Iqu8"
      },
      "source": [
        "### Train\n",
        "In the next cell, you'll train the neural network on the pre-processed data.  If you have a hard time getting a good loss, you may consider changing your hyperparameters. In general, you may get better results with larger hidden and n_layer dimensions, but larger models take a longer time to train. \n",
        "> **You should aim for a loss less than 3.5.** \n",
        "\n",
        "You should also experiment with different sequence lengths, which determine the size of the long range dependencies that a model can learn."
      ]
    },
    {
      "cell_type": "code",
      "metadata": {
        "id": "9Y7X88gaIqu8",
        "colab": {
          "base_uri": "https://localhost:8080/"
        },
        "outputId": "ddc62a8d-4795-48d6-c97a-a67e8e32f4f7"
      },
      "source": [
        "\"\"\"\n",
        "DON'T MODIFY ANYTHING IN THIS CELL\n",
        "\"\"\"\n",
        "\n",
        "# create model and move to gpu if available\n",
        "rnn = RNN(vocab_size, output_size, embedding_dim, hidden_dim, n_layers, dropout=0.5)\n",
        "if train_on_gpu:\n",
        "    rnn.cuda()\n",
        "\n",
        "# defining loss and optimization functions for training\n",
        "optimizer = torch.optim.Adam(rnn.parameters(), lr=learning_rate)\n",
        "criterion = nn.CrossEntropyLoss()\n",
        "\n",
        "# training the model\n",
        "trained_rnn = train_rnn(rnn, batch_size, optimizer, criterion, num_epochs, show_every_n_batches)\n",
        "\n",
        "# saving the trained model\n",
        "helper.save_model('./save/trained_rnn', trained_rnn)\n",
        "print('Model Trained and Saved')"
      ],
      "execution_count": 24,
      "outputs": [
        {
          "output_type": "stream",
          "text": [
            "Training for 9 epoch(s)...\n",
            "Epoch:    1/9     Loss: 5.977473727226258\n",
            "\n",
            "Epoch:    1/9     Loss: 5.242531530380249\n",
            "\n",
            "Epoch:    1/9     Loss: 4.962226447105408\n",
            "\n",
            "Epoch:    1/9     Loss: 4.850790689468384\n",
            "\n",
            "Epoch:    1/9     Loss: 4.751073977947235\n",
            "\n",
            "Epoch:    1/9     Loss: 4.657004015445709\n",
            "\n",
            "Epoch:    1/9     Loss: 4.6186458468437195\n",
            "\n",
            "Epoch:    1/9     Loss: 4.550993057727814\n",
            "\n",
            "Epoch:    1/9     Loss: 4.503552285194397\n",
            "\n",
            "Epoch:    1/9     Loss: 4.496992709636689\n",
            "\n",
            "Epoch:    1/9     Loss: 4.478844705581665\n",
            "\n",
            "Epoch:    1/9     Loss: 4.440096887111664\n",
            "\n",
            "Epoch:    1/9     Loss: 4.421379698753357\n",
            "\n",
            "Epoch:    1/9     Loss: 4.41417928314209\n",
            "\n",
            "Epoch:    1/9     Loss: 4.38263977098465\n",
            "\n",
            "Epoch:    1/9     Loss: 4.3571938829422\n",
            "\n",
            "Epoch:    1/9     Loss: 4.338934733867645\n",
            "\n",
            "Epoch:    2/9     Loss: 4.285027982100196\n",
            "\n",
            "Epoch:    2/9     Loss: 4.205285698890686\n",
            "\n",
            "Epoch:    2/9     Loss: 4.1885566930770874\n",
            "\n",
            "Epoch:    2/9     Loss: 4.186743323802948\n",
            "\n",
            "Epoch:    2/9     Loss: 4.169716574668884\n",
            "\n",
            "Epoch:    2/9     Loss: 4.178139215946198\n",
            "\n",
            "Epoch:    2/9     Loss: 4.178346435070038\n",
            "\n",
            "Epoch:    2/9     Loss: 4.138910319328308\n",
            "\n",
            "Epoch:    2/9     Loss: 4.151476816654205\n",
            "\n",
            "Epoch:    2/9     Loss: 4.133184490203857\n",
            "\n",
            "Epoch:    2/9     Loss: 4.12791312456131\n",
            "\n",
            "Epoch:    2/9     Loss: 4.1193009104728695\n",
            "\n",
            "Epoch:    2/9     Loss: 4.124635129928589\n",
            "\n",
            "Epoch:    2/9     Loss: 4.124126190662384\n",
            "\n",
            "Epoch:    2/9     Loss: 4.146169017314911\n",
            "\n",
            "Epoch:    2/9     Loss: 4.094151918888092\n",
            "\n",
            "Epoch:    2/9     Loss: 4.099854625701904\n",
            "\n",
            "Epoch:    3/9     Loss: 4.038232974902443\n",
            "\n",
            "Epoch:    3/9     Loss: 3.960381649017334\n",
            "\n",
            "Epoch:    3/9     Loss: 3.957542342662811\n",
            "\n",
            "Epoch:    3/9     Loss: 3.934472138404846\n",
            "\n",
            "Epoch:    3/9     Loss: 3.9567029933929443\n",
            "\n",
            "Epoch:    3/9     Loss: 3.969809645652771\n",
            "\n",
            "Epoch:    3/9     Loss: 3.965312012195587\n",
            "\n",
            "Epoch:    3/9     Loss: 3.948219967842102\n",
            "\n",
            "Epoch:    3/9     Loss: 3.961202796459198\n",
            "\n",
            "Epoch:    3/9     Loss: 3.970317442417145\n",
            "\n",
            "Epoch:    3/9     Loss: 3.9764592394828795\n",
            "\n",
            "Epoch:    3/9     Loss: 3.9500361609458925\n",
            "\n",
            "Epoch:    3/9     Loss: 3.9538480587005616\n",
            "\n",
            "Epoch:    3/9     Loss: 3.9974312143325808\n",
            "\n",
            "Epoch:    3/9     Loss: 3.958405348777771\n",
            "\n",
            "Epoch:    3/9     Loss: 3.9951065955162046\n",
            "\n",
            "Epoch:    3/9     Loss: 3.956594936847687\n",
            "\n",
            "Epoch:    4/9     Loss: 3.8675783286923946\n",
            "\n",
            "Epoch:    4/9     Loss: 3.8012895641326905\n",
            "\n",
            "Epoch:    4/9     Loss: 3.8209235725402833\n",
            "\n",
            "Epoch:    4/9     Loss: 3.8208481221199038\n",
            "\n",
            "Epoch:    4/9     Loss: 3.820859286785126\n",
            "\n",
            "Epoch:    4/9     Loss: 3.8292615995407107\n",
            "\n",
            "Epoch:    4/9     Loss: 3.803439187049866\n",
            "\n",
            "Epoch:    4/9     Loss: 3.838498836040497\n",
            "\n",
            "Epoch:    4/9     Loss: 3.8404198546409605\n",
            "\n",
            "Epoch:    4/9     Loss: 3.852353353023529\n",
            "\n",
            "Epoch:    4/9     Loss: 3.8363870735168457\n",
            "\n",
            "Epoch:    4/9     Loss: 3.869120783805847\n",
            "\n",
            "Epoch:    4/9     Loss: 3.8495983138084413\n",
            "\n",
            "Epoch:    4/9     Loss: 3.8729866490364073\n",
            "\n",
            "Epoch:    4/9     Loss: 3.866469457626343\n",
            "\n",
            "Epoch:    4/9     Loss: 3.8781883678436277\n",
            "\n",
            "Epoch:    4/9     Loss: 3.8523013648986817\n",
            "\n",
            "Epoch:    5/9     Loss: 3.7861401967380357\n",
            "\n",
            "Epoch:    5/9     Loss: 3.7046529989242556\n",
            "\n",
            "Epoch:    5/9     Loss: 3.7130025157928466\n",
            "\n",
            "Epoch:    5/9     Loss: 3.7285708990097044\n",
            "\n",
            "Epoch:    5/9     Loss: 3.7221602234840394\n",
            "\n",
            "Epoch:    5/9     Loss: 3.7334887223243713\n",
            "\n",
            "Epoch:    5/9     Loss: 3.7467444534301757\n",
            "\n",
            "Epoch:    5/9     Loss: 3.7528351206779478\n",
            "\n",
            "Epoch:    5/9     Loss: 3.745227719783783\n",
            "\n",
            "Epoch:    5/9     Loss: 3.7548443169593813\n",
            "\n",
            "Epoch:    5/9     Loss: 3.713085474014282\n",
            "\n",
            "Epoch:    5/9     Loss: 3.7509411959648133\n",
            "\n",
            "Epoch:    5/9     Loss: 3.7880167717933655\n",
            "\n",
            "Epoch:    5/9     Loss: 3.7790247864723208\n",
            "\n",
            "Epoch:    5/9     Loss: 3.774166332244873\n",
            "\n",
            "Epoch:    5/9     Loss: 3.8007853627204895\n",
            "\n",
            "Epoch:    5/9     Loss: 3.7832383828163145\n",
            "\n",
            "Epoch:    6/9     Loss: 3.7105908951033717\n",
            "\n",
            "Epoch:    6/9     Loss: 3.6367935786247254\n",
            "\n",
            "Epoch:    6/9     Loss: 3.6278802795410154\n",
            "\n",
            "Epoch:    6/9     Loss: 3.6431879405975343\n",
            "\n",
            "Epoch:    6/9     Loss: 3.6228110222816468\n",
            "\n",
            "Epoch:    6/9     Loss: 3.63937250995636\n",
            "\n",
            "Epoch:    6/9     Loss: 3.662007439136505\n",
            "\n",
            "Epoch:    6/9     Loss: 3.6870147495269774\n",
            "\n",
            "Epoch:    6/9     Loss: 3.6791246461868288\n",
            "\n",
            "Epoch:    6/9     Loss: 3.690557179450989\n",
            "\n",
            "Epoch:    6/9     Loss: 3.6896142988204956\n",
            "\n",
            "Epoch:    6/9     Loss: 3.685171260356903\n",
            "\n",
            "Epoch:    6/9     Loss: 3.66853911447525\n",
            "\n",
            "Epoch:    6/9     Loss: 3.7083300905227663\n",
            "\n",
            "Epoch:    6/9     Loss: 3.705693582057953\n",
            "\n",
            "Epoch:    6/9     Loss: 3.705690387248993\n",
            "\n",
            "Epoch:    6/9     Loss: 3.7214935393333435\n",
            "\n",
            "Epoch:    7/9     Loss: 3.6249227795911874\n",
            "\n",
            "Epoch:    7/9     Loss: 3.5465793828964234\n",
            "\n",
            "Epoch:    7/9     Loss: 3.600514931678772\n",
            "\n",
            "Epoch:    7/9     Loss: 3.580700809955597\n",
            "\n",
            "Epoch:    7/9     Loss: 3.5816360659599304\n",
            "\n",
            "Epoch:    7/9     Loss: 3.5827098140716553\n",
            "\n",
            "Epoch:    7/9     Loss: 3.608043035030365\n",
            "\n",
            "Epoch:    7/9     Loss: 3.6036302819252013\n",
            "\n",
            "Epoch:    7/9     Loss: 3.614184170246124\n",
            "\n",
            "Epoch:    7/9     Loss: 3.6053179802894593\n",
            "\n",
            "Epoch:    7/9     Loss: 3.6049193530082704\n",
            "\n",
            "Epoch:    7/9     Loss: 3.613199308395386\n",
            "\n",
            "Epoch:    7/9     Loss: 3.6264487257003784\n",
            "\n",
            "Epoch:    7/9     Loss: 3.6595367889404296\n",
            "\n",
            "Epoch:    7/9     Loss: 3.659605635166168\n",
            "\n",
            "Epoch:    7/9     Loss: 3.6546686000823976\n",
            "\n",
            "Epoch:    7/9     Loss: 3.6844903798103332\n",
            "\n",
            "Epoch:    8/9     Loss: 3.578362009577129\n",
            "\n",
            "Epoch:    8/9     Loss: 3.504925075531006\n",
            "\n",
            "Epoch:    8/9     Loss: 3.512934890270233\n",
            "\n",
            "Epoch:    8/9     Loss: 3.5224796319007874\n",
            "\n",
            "Epoch:    8/9     Loss: 3.5312773909568786\n",
            "\n",
            "Epoch:    8/9     Loss: 3.5470803089141847\n",
            "\n",
            "Epoch:    8/9     Loss: 3.5622874493598937\n",
            "\n",
            "Epoch:    8/9     Loss: 3.5402990355491637\n",
            "\n",
            "Epoch:    8/9     Loss: 3.573204740524292\n",
            "\n",
            "Epoch:    8/9     Loss: 3.572577164173126\n",
            "\n",
            "Epoch:    8/9     Loss: 3.543889220237732\n",
            "\n",
            "Epoch:    8/9     Loss: 3.5908611278533935\n",
            "\n",
            "Epoch:    8/9     Loss: 3.5721685733795168\n",
            "\n",
            "Epoch:    8/9     Loss: 3.596949698448181\n",
            "\n",
            "Epoch:    8/9     Loss: 3.587704818725586\n",
            "\n",
            "Epoch:    8/9     Loss: 3.6202507367134094\n",
            "\n",
            "Epoch:    8/9     Loss: 3.6389636225700377\n",
            "\n",
            "Epoch:    9/9     Loss: 3.53155086532883\n",
            "\n",
            "Epoch:    9/9     Loss: 3.457347620487213\n",
            "\n",
            "Epoch:    9/9     Loss: 3.4660138416290285\n",
            "\n",
            "Epoch:    9/9     Loss: 3.463017033100128\n",
            "\n",
            "Epoch:    9/9     Loss: 3.5083606276512147\n",
            "\n",
            "Epoch:    9/9     Loss: 3.4984453167915346\n",
            "\n",
            "Epoch:    9/9     Loss: 3.4833632130622862\n",
            "\n",
            "Epoch:    9/9     Loss: 3.49511461019516\n",
            "\n",
            "Epoch:    9/9     Loss: 3.5228823504447937\n",
            "\n",
            "Epoch:    9/9     Loss: 3.5520375580787658\n",
            "\n",
            "Epoch:    9/9     Loss: 3.527602877616882\n",
            "\n",
            "Epoch:    9/9     Loss: 3.546253005504608\n",
            "\n",
            "Epoch:    9/9     Loss: 3.5701473875045777\n",
            "\n",
            "Epoch:    9/9     Loss: 3.58005331325531\n",
            "\n",
            "Epoch:    9/9     Loss: 3.5541479406356813\n",
            "\n",
            "Epoch:    9/9     Loss: 3.5534886198043822\n",
            "\n",
            "Epoch:    9/9     Loss: 3.5704852032661436\n",
            "\n",
            "Model Trained and Saved\n"
          ],
          "name": "stdout"
        }
      ]
    },
    {
      "cell_type": "markdown",
      "metadata": {
        "id": "v39KZy0MIqu9"
      },
      "source": [
        "### Question: How did you decide on your model hyperparameters? \n",
        "For example, did you try different sequence_lengths and find that one size made the model converge faster? What about your hidden_dim and n_layers; how did you decide on those?"
      ]
    },
    {
      "cell_type": "markdown",
      "metadata": {
        "id": "Bgl0HNdPIqu9"
      },
      "source": [
        "**Answer:** (Write answer, here)\n",
        "i started up with 200 seq lentgth and 500 embedding dim with 3 layers and found out that it takes a lot of time to get  done so I tried so many variations between the three and found out that 256 embedding dim was enough so i kept it that ay then changed the the other two until i reached this solution"
      ]
    },
    {
      "cell_type": "markdown",
      "metadata": {
        "id": "FKx9lrdbIqu9"
      },
      "source": [
        "---\n",
        "# Checkpoint\n",
        "\n",
        "After running the above training cell, your model will be saved by name, `trained_rnn`, and if you save your notebook progress, **you can pause here and come back to this code at another time**. You can resume your progress by running the next cell, which will load in our word:id dictionaries _and_ load in your saved model by name!"
      ]
    },
    {
      "cell_type": "code",
      "metadata": {
        "collapsed": true,
        "id": "kkwWGhdbIqu9"
      },
      "source": [
        "\"\"\"\n",
        "DON'T MODIFY ANYTHING IN THIS CELL\n",
        "\"\"\"\n",
        "import torch\n",
        "import helper\n",
        "import problem_unittests as tests\n",
        "\n",
        "_, vocab_to_int, int_to_vocab, token_dict = helper.load_preprocess()\n",
        "trained_rnn = helper.load_model('./save/trained_rnn')"
      ],
      "execution_count": 25,
      "outputs": []
    },
    {
      "cell_type": "markdown",
      "metadata": {
        "id": "Tq-DR0rGIqu9"
      },
      "source": [
        "## Generate TV Script\n",
        "With the network trained and saved, you'll use it to generate a new, \"fake\" Seinfeld TV script in this section.\n",
        "\n",
        "### Generate Text\n",
        "To generate the text, the network needs to start with a single word and repeat its predictions until it reaches a set length. You'll be using the `generate` function to do this. It takes a word id to start with, `prime_id`, and generates a set length of text, `predict_len`. Also note that it uses topk sampling to introduce some randomness in choosing the most likely next word, given an output set of word scores!"
      ]
    },
    {
      "cell_type": "code",
      "metadata": {
        "collapsed": true,
        "id": "TVvOV8VMIqu-"
      },
      "source": [
        "\"\"\"\n",
        "DON'T MODIFY ANYTHING IN THIS CELL THAT IS BELOW THIS LINE\n",
        "\"\"\"\n",
        "import torch.nn.functional as F\n",
        "\n",
        "def generate(rnn, prime_id, int_to_vocab, token_dict, pad_value, predict_len=100):\n",
        "    \"\"\"\n",
        "    Generate text using the neural network\n",
        "    :param decoder: The PyTorch Module that holds the trained neural network\n",
        "    :param prime_id: The word id to start the first prediction\n",
        "    :param int_to_vocab: Dict of word id keys to word values\n",
        "    :param token_dict: Dict of puncuation tokens keys to puncuation values\n",
        "    :param pad_value: The value used to pad a sequence\n",
        "    :param predict_len: The length of text to generate\n",
        "    :return: The generated text\n",
        "    \"\"\"\n",
        "    rnn.eval()\n",
        "    \n",
        "    # create a sequence (batch_size=1) with the prime_id\n",
        "    current_seq = np.full((1, sequence_length), pad_value)\n",
        "    current_seq[-1][-1] = prime_id\n",
        "    predicted = [int_to_vocab[prime_id]]\n",
        "    \n",
        "    for _ in range(predict_len):\n",
        "        if train_on_gpu:\n",
        "            current_seq = torch.LongTensor(current_seq).cuda()\n",
        "        else:\n",
        "            current_seq = torch.LongTensor(current_seq)\n",
        "        \n",
        "        # initialize the hidden state\n",
        "        hidden = rnn.init_hidden(current_seq.size(0))\n",
        "        \n",
        "        # get the output of the rnn\n",
        "        output, _ = rnn(current_seq, hidden)\n",
        "        \n",
        "        # get the next word probabilities\n",
        "        p = F.softmax(output, dim=1).data\n",
        "        if(train_on_gpu):\n",
        "            p = p.cpu() # move to cpu\n",
        "         \n",
        "        # use top_k sampling to get the index of the next word\n",
        "        top_k = 5\n",
        "        p, top_i = p.topk(top_k)\n",
        "        top_i = top_i.numpy().squeeze()\n",
        "        \n",
        "        # select the likely next word index with some element of randomness\n",
        "        p = p.numpy().squeeze()\n",
        "        word_i = np.random.choice(top_i, p=p/p.sum())\n",
        "        \n",
        "        # retrieve that word from the dictionary\n",
        "        word = int_to_vocab[word_i]\n",
        "        predicted.append(word)     \n",
        "        \n",
        "        if(train_on_gpu):\n",
        "            current_seq = current_seq.cpu() # move to cpu\n",
        "        # the generated word becomes the next \"current sequence\" and the cycle can continue\n",
        "        if train_on_gpu:\n",
        "            current_seq = current_seq.cpu()\n",
        "        current_seq = np.roll(current_seq, -1, 1)\n",
        "        current_seq[-1][-1] = word_i\n",
        "    \n",
        "    gen_sentences = ' '.join(predicted)\n",
        "    \n",
        "    # Replace punctuation tokens\n",
        "    for key, token in token_dict.items():\n",
        "        ending = ' ' if key in ['\\n', '(', '\"'] else ''\n",
        "        gen_sentences = gen_sentences.replace(' ' + token.lower(), key)\n",
        "    gen_sentences = gen_sentences.replace('\\n ', '\\n')\n",
        "    gen_sentences = gen_sentences.replace('( ', '(')\n",
        "    \n",
        "    # return all the sentences\n",
        "    return gen_sentences"
      ],
      "execution_count": 26,
      "outputs": []
    },
    {
      "cell_type": "markdown",
      "metadata": {
        "id": "aRR5axvFIqu-"
      },
      "source": [
        "### Generate a New Script\n",
        "It's time to generate the text. Set `gen_length` to the length of TV script you want to generate and set `prime_word` to one of the following to start the prediction:\n",
        "- \"jerry\"\n",
        "- \"elaine\"\n",
        "- \"george\"\n",
        "- \"kramer\"\n",
        "\n",
        "You can set the prime word to _any word_ in our dictionary, but it's best to start with a name for generating a TV script. (You can also start with any other names you find in the original text file!)"
      ]
    },
    {
      "cell_type": "code",
      "metadata": {
        "collapsed": true,
        "id": "pexCoQ0KIqu-",
        "colab": {
          "base_uri": "https://localhost:8080/"
        },
        "outputId": "240ab8ed-c6e9-4c2d-abaf-06ab9e52651f"
      },
      "source": [
        "# run the cell multiple times to get different results!\n",
        "gen_length = 400 # modify the length to your preference\n",
        "prime_word = 'jerry' # name for starting the script\n",
        "\n",
        "\"\"\"\n",
        "DON'T MODIFY ANYTHING IN THIS CELL THAT IS BELOW THIS LINE\n",
        "\"\"\"\n",
        "pad_word = helper.SPECIAL_WORDS['PADDING']\n",
        "generated_script = generate(trained_rnn, vocab_to_int[prime_word + ':'], int_to_vocab, token_dict, vocab_to_int[pad_word], gen_length)\n",
        "print(generated_script)"
      ],
      "execution_count": 27,
      "outputs": [
        {
          "output_type": "stream",
          "text": [
            "jerry:.\n",
            "\n",
            "elaine:(to jerry) well, what are you talking about?(to elaine) i don't know what you're gonna do.\n",
            "\n",
            "jerry:(to elaine, she says it) i think i have a little, very ugly...(looks at jerry)\n",
            "\n",
            "george:(to jerry) what is this?(jerry enters)\n",
            "\n",
            "jerry: what is that?\n",
            "\n",
            "elaine:(smiling) what?\n",
            "\n",
            "jerry: i don't know.\n",
            "\n",
            "kramer: oh my god, i don't know..\n",
            "\n",
            "jerry: oh, i gotta get a ride.\n",
            "\n",
            "george: what?!\n",
            "\n",
            "jerry: what are they doin'? i got the statue in the mirror. i got the bathroom!\n",
            "\n",
            "jerry: i know!\n",
            "\n",
            "george:(to george) hey, you gotta get a gardener?\n",
            "\n",
            "jerry: what is the matter?\n",
            "\n",
            "elaine: what do you think?\n",
            "\n",
            "kramer: oh!(to jerry) hey, what are you doing tonight?\n",
            "\n",
            "kramer: well, i gotta go to you.\n",
            "\n",
            "george: i gotta get some trouble for you. i gotta do it. i have to do this. i'm sorry, you know i don't have to be able to get a little problem. i don't know what i'm doing in here with this.\n",
            "\n",
            "george: oh, no, no, i don't want to...\n",
            "\n",
            "jerry:(looking out to leave, she has to leave his head) what is that?\n",
            "\n",
            "jerry: well, you know, you gotta have to go with the rest of a few weeks and i don't want it in your apartment.\n",
            "\n",
            "george: i gotta go.\n",
            "\n",
            "kramer: well, you know, i don't have the keys, and i'm going to be the best...\n",
            "\n",
            "jerry:(to jerry) oh, yeah, uh, i'm sorry.(hangs up)\n",
            "\n",
            "george:(to the bathroom) yeah, yeah.\n",
            "\n",
            "jerry:(to jerry) i can't believe it.\n",
            "\n",
            "\n"
          ],
          "name": "stdout"
        }
      ]
    },
    {
      "cell_type": "markdown",
      "metadata": {
        "id": "uv-ub7EpIqu_"
      },
      "source": [
        "#### Save your favorite scripts\n",
        "\n",
        "Once you have a script that you like (or find interesting), save it to a text file!"
      ]
    },
    {
      "cell_type": "code",
      "metadata": {
        "collapsed": true,
        "id": "YBYgExPXIqu_"
      },
      "source": [
        "# save script to a text file\n",
        "f =  open(\"generated_script_1.txt\",\"w\")\n",
        "f.write(generated_script)\n",
        "f.close()"
      ],
      "execution_count": 28,
      "outputs": []
    },
    {
      "cell_type": "markdown",
      "metadata": {
        "id": "tmYoTOkFIqu_"
      },
      "source": [
        "# The TV Script is Not Perfect\n",
        "It's ok if the TV script doesn't make perfect sense. It should look like alternating lines of dialogue, here is one such example of a few generated lines.\n",
        "\n",
        "### Example generated script\n",
        "\n",
        ">jerry: what about me?\n",
        ">\n",
        ">jerry: i don't have to wait.\n",
        ">\n",
        ">kramer:(to the sales table)\n",
        ">\n",
        ">elaine:(to jerry) hey, look at this, i'm a good doctor.\n",
        ">\n",
        ">newman:(to elaine) you think i have no idea of this...\n",
        ">\n",
        ">elaine: oh, you better take the phone, and he was a little nervous.\n",
        ">\n",
        ">kramer:(to the phone) hey, hey, jerry, i don't want to be a little bit.(to kramer and jerry) you can't.\n",
        ">\n",
        ">jerry: oh, yeah. i don't even know, i know.\n",
        ">\n",
        ">jerry:(to the phone) oh, i know.\n",
        ">\n",
        ">kramer:(laughing) you know...(to jerry) you don't know.\n",
        "\n",
        "You can see that there are multiple characters that say (somewhat) complete sentences, but it doesn't have to be perfect! It takes quite a while to get good results, and often, you'll have to use a smaller vocabulary (and discard uncommon words), or get more data.  The Seinfeld dataset is about 3.4 MB, which is big enough for our purposes; for script generation you'll want more than 1 MB of text, generally. \n",
        "\n",
        "# Submitting This Project\n",
        "When submitting this project, make sure to run all the cells before saving the notebook. Save the notebook file as \"dlnd_tv_script_generation.ipynb\" and save another copy as an HTML file by clicking \"File\" -> \"Download as..\"->\"html\". Include the \"helper.py\" and \"problem_unittests.py\" files in your submission. Once you download these files, compress them into one zip file for submission."
      ]
    },
    {
      "cell_type": "code",
      "metadata": {
        "collapsed": true,
        "id": "2Qc5RJmjIqu_"
      },
      "source": [
        ""
      ],
      "execution_count": null,
      "outputs": []
    }
  ]
}